{
 "cells": [
  {
   "cell_type": "markdown",
   "id": "9c4aeb7b",
   "metadata": {},
   "source": [
    "# JUPYTER HEADING"
   ]
  },
  {
   "cell_type": "markdown",
   "id": "3266041d",
   "metadata": {},
   "source": [
    "SUB HEADING AND PARAGRAPH"
   ]
  },
  {
   "cell_type": "code",
   "execution_count": 1,
   "id": "f35a5aed",
   "metadata": {},
   "outputs": [
    {
     "name": "stdout",
     "output_type": "stream",
     "text": [
      "great lakes institute\n"
     ]
    }
   ],
   "source": [
    "print(\"great lakes institute\")"
   ]
  },
  {
   "cell_type": "code",
   "execution_count": 2,
   "id": "9bfbf296",
   "metadata": {},
   "outputs": [
    {
     "name": "stdout",
     "output_type": "stream",
     "text": [
      "class room session 1\n"
     ]
    }
   ],
   "source": [
    "print(\"class room session 1\")"
   ]
  },
  {
   "cell_type": "code",
   "execution_count": 3,
   "id": "39d5c868",
   "metadata": {},
   "outputs": [],
   "source": [
    "a=256"
   ]
  },
  {
   "cell_type": "code",
   "execution_count": 4,
   "id": "14f2608f",
   "metadata": {
    "scrolled": true
   },
   "outputs": [
    {
     "data": {
      "text/plain": [
       "int"
      ]
     },
     "execution_count": 4,
     "metadata": {},
     "output_type": "execute_result"
    }
   ],
   "source": [
    "type(a)"
   ]
  },
  {
   "cell_type": "code",
   "execution_count": 5,
   "id": "959d1b4e",
   "metadata": {},
   "outputs": [],
   "source": [
    "d=True"
   ]
  },
  {
   "cell_type": "code",
   "execution_count": 6,
   "id": "71bcc8e3",
   "metadata": {},
   "outputs": [
    {
     "data": {
      "text/plain": [
       "bool"
      ]
     },
     "execution_count": 6,
     "metadata": {},
     "output_type": "execute_result"
    }
   ],
   "source": [
    "type(d)"
   ]
  },
  {
   "cell_type": "code",
   "execution_count": 7,
   "id": "2cbdba8a",
   "metadata": {},
   "outputs": [],
   "source": [
    "e=1+4j"
   ]
  },
  {
   "cell_type": "code",
   "execution_count": 8,
   "id": "af94a5ab",
   "metadata": {},
   "outputs": [
    {
     "data": {
      "text/plain": [
       "complex"
      ]
     },
     "execution_count": 8,
     "metadata": {},
     "output_type": "execute_result"
    }
   ],
   "source": [
    "type(e)"
   ]
  },
  {
   "cell_type": "code",
   "execution_count": 9,
   "id": "57d904e7",
   "metadata": {},
   "outputs": [
    {
     "name": "stdout",
     "output_type": "stream",
     "text": [
      "True\n",
      "(1+4j)\n"
     ]
    }
   ],
   "source": [
    "print(d)\n",
    "print(e)"
   ]
  },
  {
   "cell_type": "code",
   "execution_count": 10,
   "id": "8cec6483",
   "metadata": {},
   "outputs": [],
   "source": [
    "k=2.34567"
   ]
  },
  {
   "cell_type": "code",
   "execution_count": 11,
   "id": "45a66dfc",
   "metadata": {},
   "outputs": [
    {
     "data": {
      "text/plain": [
       "float"
      ]
     },
     "execution_count": 11,
     "metadata": {},
     "output_type": "execute_result"
    }
   ],
   "source": [
    "type(k)"
   ]
  },
  {
   "cell_type": "code",
   "execution_count": 12,
   "id": "48f42e23",
   "metadata": {},
   "outputs": [
    {
     "name": "stdout",
     "output_type": "stream",
     "text": [
      "2.34567\n"
     ]
    }
   ],
   "source": [
    "print(k)"
   ]
  },
  {
   "cell_type": "code",
   "execution_count": 13,
   "id": "d4848a16",
   "metadata": {},
   "outputs": [],
   "source": [
    "h=False"
   ]
  },
  {
   "cell_type": "code",
   "execution_count": 14,
   "id": "0f09dbaa",
   "metadata": {},
   "outputs": [
    {
     "data": {
      "text/plain": [
       "bool"
      ]
     },
     "execution_count": 14,
     "metadata": {},
     "output_type": "execute_result"
    }
   ],
   "source": [
    "type(h)"
   ]
  },
  {
   "cell_type": "code",
   "execution_count": 15,
   "id": "d6562628",
   "metadata": {},
   "outputs": [],
   "source": [
    "f=564"
   ]
  },
  {
   "cell_type": "code",
   "execution_count": 16,
   "id": "daed6d48",
   "metadata": {},
   "outputs": [],
   "source": [
    "g=343"
   ]
  },
  {
   "cell_type": "code",
   "execution_count": 17,
   "id": "11eab65a",
   "metadata": {},
   "outputs": [
    {
     "name": "stdout",
     "output_type": "stream",
     "text": [
      "907\n"
     ]
    }
   ],
   "source": [
    "print(f+g)"
   ]
  },
  {
   "cell_type": "code",
   "execution_count": 18,
   "id": "16105602",
   "metadata": {},
   "outputs": [],
   "source": [
    "h=\"10\"\n",
    "j=\"99\""
   ]
  },
  {
   "cell_type": "code",
   "execution_count": 19,
   "id": "73f8bfb6",
   "metadata": {},
   "outputs": [
    {
     "data": {
      "text/plain": [
       "'1099'"
      ]
     },
     "execution_count": 19,
     "metadata": {},
     "output_type": "execute_result"
    }
   ],
   "source": [
    "h+j"
   ]
  },
  {
   "cell_type": "code",
   "execution_count": 1,
   "id": "f611ced0",
   "metadata": {
    "scrolled": true
   },
   "outputs": [],
   "source": [
    "s1='hi'\n",
    "s2='buddy'"
   ]
  },
  {
   "cell_type": "code",
   "execution_count": 2,
   "id": "29a0447b",
   "metadata": {},
   "outputs": [
    {
     "data": {
      "text/plain": [
       "'hibuddy'"
      ]
     },
     "execution_count": 2,
     "metadata": {},
     "output_type": "execute_result"
    }
   ],
   "source": [
    "s1+s2"
   ]
  },
  {
   "cell_type": "code",
   "execution_count": 6,
   "id": "ca5eda71",
   "metadata": {},
   "outputs": [
    {
     "name": "stdout",
     "output_type": "stream",
     "text": [
      "hi buddy\n"
     ]
    }
   ],
   "source": [
    "print(s1,s2)"
   ]
  },
  {
   "cell_type": "code",
   "execution_count": 22,
   "id": "b311fa12",
   "metadata": {},
   "outputs": [],
   "source": [
    "city='chennai'"
   ]
  },
  {
   "cell_type": "code",
   "execution_count": 23,
   "id": "b28b365d",
   "metadata": {},
   "outputs": [
    {
     "name": "stdout",
     "output_type": "stream",
     "text": [
      "i love chennai\n"
     ]
    }
   ],
   "source": [
    "print(\"i love\",city)"
   ]
  },
  {
   "cell_type": "code",
   "execution_count": 24,
   "id": "6a18ea92",
   "metadata": {},
   "outputs": [],
   "source": [
    "old='My age is'"
   ]
  },
  {
   "cell_type": "code",
   "execution_count": 25,
   "id": "0f8b9f7b",
   "metadata": {},
   "outputs": [
    {
     "name": "stdout",
     "output_type": "stream",
     "text": [
      "My age is 30\n"
     ]
    }
   ],
   "source": [
    "print(old,30)"
   ]
  },
  {
   "cell_type": "code",
   "execution_count": 26,
   "id": "7f6c8613",
   "metadata": {},
   "outputs": [
    {
     "data": {
      "text/plain": [
       "str"
      ]
     },
     "execution_count": 26,
     "metadata": {},
     "output_type": "execute_result"
    }
   ],
   "source": [
    "type(old)"
   ]
  },
  {
   "cell_type": "markdown",
   "id": "dd58c039",
   "metadata": {},
   "source": [
    "# ARITHMETIC OPERATIONS"
   ]
  },
  {
   "cell_type": "code",
   "execution_count": 2,
   "id": "6be13d7d",
   "metadata": {},
   "outputs": [],
   "source": [
    "a=3\n",
    "b=4"
   ]
  },
  {
   "cell_type": "code",
   "execution_count": 3,
   "id": "d57c65e6",
   "metadata": {},
   "outputs": [
    {
     "data": {
      "text/plain": [
       "7"
      ]
     },
     "execution_count": 3,
     "metadata": {},
     "output_type": "execute_result"
    }
   ],
   "source": [
    "a+b"
   ]
  },
  {
   "cell_type": "code",
   "execution_count": 4,
   "id": "2cb3dddb",
   "metadata": {},
   "outputs": [
    {
     "data": {
      "text/plain": [
       "-1"
      ]
     },
     "execution_count": 4,
     "metadata": {},
     "output_type": "execute_result"
    }
   ],
   "source": [
    "a-b"
   ]
  },
  {
   "cell_type": "code",
   "execution_count": 5,
   "id": "e6ad72d2",
   "metadata": {},
   "outputs": [
    {
     "data": {
      "text/plain": [
       "1"
      ]
     },
     "execution_count": 5,
     "metadata": {},
     "output_type": "execute_result"
    }
   ],
   "source": [
    "b-a"
   ]
  },
  {
   "cell_type": "code",
   "execution_count": 6,
   "id": "b223190a",
   "metadata": {},
   "outputs": [
    {
     "data": {
      "text/plain": [
       "12"
      ]
     },
     "execution_count": 6,
     "metadata": {},
     "output_type": "execute_result"
    }
   ],
   "source": [
    "a*b"
   ]
  },
  {
   "cell_type": "code",
   "execution_count": 7,
   "id": "5b4138b6",
   "metadata": {},
   "outputs": [
    {
     "data": {
      "text/plain": [
       "0.75"
      ]
     },
     "execution_count": 7,
     "metadata": {},
     "output_type": "execute_result"
    }
   ],
   "source": [
    "a/b"
   ]
  },
  {
   "cell_type": "code",
   "execution_count": 8,
   "id": "09b45504",
   "metadata": {},
   "outputs": [
    {
     "data": {
      "text/plain": [
       "1"
      ]
     },
     "execution_count": 8,
     "metadata": {},
     "output_type": "execute_result"
    }
   ],
   "source": [
    "b%a"
   ]
  },
  {
   "cell_type": "code",
   "execution_count": 34,
   "id": "3556eaf7",
   "metadata": {},
   "outputs": [
    {
     "data": {
      "text/plain": [
       "1"
      ]
     },
     "execution_count": 34,
     "metadata": {},
     "output_type": "execute_result"
    }
   ],
   "source": [
    "b//a"
   ]
  },
  {
   "cell_type": "code",
   "execution_count": 35,
   "id": "84ecbba6",
   "metadata": {},
   "outputs": [
    {
     "data": {
      "text/plain": [
       "81"
      ]
     },
     "execution_count": 35,
     "metadata": {},
     "output_type": "execute_result"
    }
   ],
   "source": [
    "a**b"
   ]
  },
  {
   "cell_type": "code",
   "execution_count": 36,
   "id": "124f1198",
   "metadata": {},
   "outputs": [
    {
     "data": {
      "text/plain": [
       "1"
      ]
     },
     "execution_count": 36,
     "metadata": {},
     "output_type": "execute_result"
    }
   ],
   "source": [
    "b%a"
   ]
  },
  {
   "cell_type": "code",
   "execution_count": 37,
   "id": "83511118",
   "metadata": {},
   "outputs": [],
   "source": [
    "a=10"
   ]
  },
  {
   "cell_type": "code",
   "execution_count": 38,
   "id": "665362d4",
   "metadata": {},
   "outputs": [
    {
     "data": {
      "text/plain": [
       "int"
      ]
     },
     "execution_count": 38,
     "metadata": {},
     "output_type": "execute_result"
    }
   ],
   "source": [
    "type(a)"
   ]
  },
  {
   "cell_type": "code",
   "execution_count": 39,
   "id": "9b2fef24",
   "metadata": {},
   "outputs": [],
   "source": [
    "b=float(a)"
   ]
  },
  {
   "cell_type": "code",
   "execution_count": 40,
   "id": "01af4738",
   "metadata": {},
   "outputs": [
    {
     "data": {
      "text/plain": [
       "float"
      ]
     },
     "execution_count": 40,
     "metadata": {},
     "output_type": "execute_result"
    }
   ],
   "source": [
    "type(b)"
   ]
  },
  {
   "cell_type": "code",
   "execution_count": 41,
   "id": "7aab7aef",
   "metadata": {},
   "outputs": [],
   "source": [
    "c=int(b)"
   ]
  },
  {
   "cell_type": "code",
   "execution_count": 42,
   "id": "09077f99",
   "metadata": {},
   "outputs": [
    {
     "data": {
      "text/plain": [
       "int"
      ]
     },
     "execution_count": 42,
     "metadata": {},
     "output_type": "execute_result"
    }
   ],
   "source": [
    "type(c)"
   ]
  },
  {
   "cell_type": "code",
   "execution_count": 43,
   "id": "fff4cb9a",
   "metadata": {},
   "outputs": [
    {
     "data": {
      "text/plain": [
       "10"
      ]
     },
     "execution_count": 43,
     "metadata": {},
     "output_type": "execute_result"
    }
   ],
   "source": [
    "c"
   ]
  },
  {
   "cell_type": "code",
   "execution_count": 44,
   "id": "8ad6b900",
   "metadata": {},
   "outputs": [
    {
     "data": {
      "text/plain": [
       "35"
      ]
     },
     "execution_count": 44,
     "metadata": {},
     "output_type": "execute_result"
    }
   ],
   "source": [
    "c+25"
   ]
  },
  {
   "cell_type": "code",
   "execution_count": 45,
   "id": "ae273402",
   "metadata": {},
   "outputs": [],
   "source": [
    "a=True\n",
    "b=False"
   ]
  },
  {
   "cell_type": "code",
   "execution_count": 46,
   "id": "a67d147e",
   "metadata": {},
   "outputs": [],
   "source": [
    "c=int(a)\n",
    "d=int(b)"
   ]
  },
  {
   "cell_type": "code",
   "execution_count": 47,
   "id": "99d298c0",
   "metadata": {},
   "outputs": [
    {
     "name": "stdout",
     "output_type": "stream",
     "text": [
      "1 0\n"
     ]
    }
   ],
   "source": [
    "print(c,d)"
   ]
  },
  {
   "cell_type": "code",
   "execution_count": 48,
   "id": "e20de6eb",
   "metadata": {},
   "outputs": [
    {
     "name": "stdout",
     "output_type": "stream",
     "text": [
      "1\n"
     ]
    }
   ],
   "source": [
    "print(a+b)"
   ]
  },
  {
   "cell_type": "code",
   "execution_count": 49,
   "id": "851fdc50",
   "metadata": {},
   "outputs": [],
   "source": [
    "city1='chennai'\n",
    "city2='mumbai'"
   ]
  },
  {
   "cell_type": "code",
   "execution_count": 50,
   "id": "4ded54d8",
   "metadata": {},
   "outputs": [
    {
     "name": "stdout",
     "output_type": "stream",
     "text": [
      "chennai\n",
      "mumbai\n"
     ]
    }
   ],
   "source": [
    "print(city1)\n",
    "print(city2)"
   ]
  },
  {
   "cell_type": "code",
   "execution_count": 51,
   "id": "cfb6a055",
   "metadata": {},
   "outputs": [
    {
     "name": "stdout",
     "output_type": "stream",
     "text": [
      "chennaimumbai\n"
     ]
    }
   ],
   "source": [
    "print(city1,end='')\n",
    "print(city2)"
   ]
  },
  {
   "cell_type": "code",
   "execution_count": 52,
   "id": "4a29cdd6",
   "metadata": {},
   "outputs": [
    {
     "name": "stdout",
     "output_type": "stream",
     "text": [
      "chennai mumbai\n"
     ]
    }
   ],
   "source": [
    "print(city1,end=' ')\n",
    "print(city2)"
   ]
  },
  {
   "cell_type": "code",
   "execution_count": 53,
   "id": "00f617d3",
   "metadata": {},
   "outputs": [
    {
     "name": "stdout",
     "output_type": "stream",
     "text": [
      "chennai$@%^&mumbai\n"
     ]
    }
   ],
   "source": [
    "print(city1,end='$@%^&')\n",
    "print(city2)"
   ]
  },
  {
   "cell_type": "code",
   "execution_count": 54,
   "id": "35b5f987",
   "metadata": {},
   "outputs": [],
   "source": [
    "a='country'\n",
    "b='state'"
   ]
  },
  {
   "cell_type": "code",
   "execution_count": 55,
   "id": "74b90ee9",
   "metadata": {},
   "outputs": [
    {
     "name": "stdout",
     "output_type": "stream",
     "text": [
      "country=india\n",
      "state:tamilnadu\n"
     ]
    }
   ],
   "source": [
    "print(a,'india',sep='=')\n",
    "print(b,'tamilnadu',sep=':')"
   ]
  },
  {
   "cell_type": "markdown",
   "id": "8d28c942",
   "metadata": {},
   "source": [
    "# INPUT STATEMENT"
   ]
  },
  {
   "cell_type": "code",
   "execution_count": 56,
   "id": "ee399e35",
   "metadata": {
    "scrolled": true
   },
   "outputs": [
    {
     "name": "stdout",
     "output_type": "stream",
     "text": [
      "Enter your name, RANJITH\n"
     ]
    },
    {
     "data": {
      "text/plain": [
       "'RANJITH'"
      ]
     },
     "execution_count": 56,
     "metadata": {},
     "output_type": "execute_result"
    }
   ],
   "source": [
    "input('Enter your name, ')"
   ]
  },
  {
   "cell_type": "code",
   "execution_count": 57,
   "id": "676aba68",
   "metadata": {},
   "outputs": [
    {
     "name": "stdout",
     "output_type": "stream",
     "text": [
      "type password, RANJITH\n"
     ]
    },
    {
     "data": {
      "text/plain": [
       "'RANJITH'"
      ]
     },
     "execution_count": 57,
     "metadata": {},
     "output_type": "execute_result"
    }
   ],
   "source": [
    "input('type password, ')"
   ]
  },
  {
   "cell_type": "code",
   "execution_count": 58,
   "id": "95f499fb",
   "metadata": {},
   "outputs": [
    {
     "name": "stdout",
     "output_type": "stream",
     "text": [
      "Enter your OTP, 5745475\n"
     ]
    },
    {
     "data": {
      "text/plain": [
       "'5745475'"
      ]
     },
     "execution_count": 58,
     "metadata": {},
     "output_type": "execute_result"
    }
   ],
   "source": [
    "input('Enter your OTP, ')"
   ]
  },
  {
   "cell_type": "code",
   "execution_count": 59,
   "id": "22430e9e",
   "metadata": {},
   "outputs": [
    {
     "name": "stdout",
     "output_type": "stream",
     "text": [
      "add few comments    GOOD\n"
     ]
    },
    {
     "data": {
      "text/plain": [
       "'GOOD'"
      ]
     },
     "execution_count": 59,
     "metadata": {},
     "output_type": "execute_result"
    }
   ],
   "source": [
    "input('add few comments    ')"
   ]
  },
  {
   "cell_type": "code",
   "execution_count": 60,
   "id": "78cced8b",
   "metadata": {},
   "outputs": [
    {
     "name": "stdout",
     "output_type": "stream",
     "text": [
      "type price,200\n"
     ]
    },
    {
     "data": {
      "text/plain": [
       "'200'"
      ]
     },
     "execution_count": 60,
     "metadata": {},
     "output_type": "execute_result"
    }
   ],
   "source": [
    "input('type price,')"
   ]
  },
  {
   "cell_type": "code",
   "execution_count": 65,
   "id": "fd8ce607",
   "metadata": {},
   "outputs": [
    {
     "name": "stdout",
     "output_type": "stream",
     "text": [
      "please enter the price=150\n",
      "price including gst is 177.0\n"
     ]
    }
   ],
   "source": [
    "price=int(input('please enter the price='))\n",
    "print(\"price including gst is\", 1.18*price)"
   ]
  },
  {
   "cell_type": "code",
   "execution_count": 66,
   "id": "a7b5189c",
   "metadata": {
    "scrolled": true
   },
   "outputs": [
    {
     "name": "stdout",
     "output_type": "stream",
     "text": [
      "price after discount= 168.15\n"
     ]
    }
   ],
   "source": [
    "print(\"price after discount=\", 0.95*177)"
   ]
  },
  {
   "cell_type": "code",
   "execution_count": 7,
   "id": "df2f7152",
   "metadata": {},
   "outputs": [
    {
     "name": "stdout",
     "output_type": "stream",
     "text": [
      "type ur name:gugan\n",
      "type ur age:26\n",
      "Your name is gugan and your age is 26\n",
      "thankyou\n"
     ]
    }
   ],
   "source": [
    "name=input(\"type ur name:\",)\n",
    "age=input(\"type ur age:\",)\n",
    "print(\"Your name is\",name,\"and your age is\",age )\n",
    "print (\"thankyou\")"
   ]
  },
  {
   "cell_type": "markdown",
   "id": "5e12a051",
   "metadata": {},
   "source": [
    "# LOGICAL OPERATORS"
   ]
  },
  {
   "cell_type": "code",
   "execution_count": 72,
   "id": "4d4971a6",
   "metadata": {},
   "outputs": [
    {
     "data": {
      "text/plain": [
       "True"
      ]
     },
     "execution_count": 72,
     "metadata": {},
     "output_type": "execute_result"
    }
   ],
   "source": [
    "2<3"
   ]
  },
  {
   "cell_type": "code",
   "execution_count": 68,
   "id": "326cb101",
   "metadata": {},
   "outputs": [
    {
     "data": {
      "text/plain": [
       "False"
      ]
     },
     "execution_count": 68,
     "metadata": {},
     "output_type": "execute_result"
    }
   ],
   "source": [
    "5>345"
   ]
  },
  {
   "cell_type": "code",
   "execution_count": 69,
   "id": "14df8aff",
   "metadata": {
    "scrolled": true
   },
   "outputs": [
    {
     "data": {
      "text/plain": [
       "True"
      ]
     },
     "execution_count": 69,
     "metadata": {},
     "output_type": "execute_result"
    }
   ],
   "source": [
    "3>=3"
   ]
  },
  {
   "cell_type": "code",
   "execution_count": 70,
   "id": "1724c06b",
   "metadata": {},
   "outputs": [
    {
     "data": {
      "text/plain": [
       "True"
      ]
     },
     "execution_count": 70,
     "metadata": {},
     "output_type": "execute_result"
    }
   ],
   "source": [
    "456<=500"
   ]
  },
  {
   "cell_type": "code",
   "execution_count": 71,
   "id": "c1add19c",
   "metadata": {},
   "outputs": [
    {
     "data": {
      "text/plain": [
       "True"
      ]
     },
     "execution_count": 71,
     "metadata": {},
     "output_type": "execute_result"
    }
   ],
   "source": [
    "100==100"
   ]
  },
  {
   "cell_type": "code",
   "execution_count": 73,
   "id": "47f51eb8",
   "metadata": {},
   "outputs": [
    {
     "data": {
      "text/plain": [
       "True"
      ]
     },
     "execution_count": 73,
     "metadata": {},
     "output_type": "execute_result"
    }
   ],
   "source": [
    "100!=34567"
   ]
  },
  {
   "cell_type": "code",
   "execution_count": 74,
   "id": "38cad999",
   "metadata": {},
   "outputs": [],
   "source": [
    "city1='chennai'\n",
    "city2='mumbai'\n",
    "city3='tamilnadu'"
   ]
  },
  {
   "cell_type": "code",
   "execution_count": 75,
   "id": "8e4c26bd",
   "metadata": {},
   "outputs": [
    {
     "data": {
      "text/plain": [
       "False"
      ]
     },
     "execution_count": 75,
     "metadata": {},
     "output_type": "execute_result"
    }
   ],
   "source": [
    "city1==city2"
   ]
  },
  {
   "cell_type": "code",
   "execution_count": 1,
   "id": "356436b7",
   "metadata": {},
   "outputs": [],
   "source": [
    "a=True\n",
    "b=False"
   ]
  },
  {
   "cell_type": "code",
   "execution_count": 2,
   "id": "da2f57c2",
   "metadata": {},
   "outputs": [
    {
     "data": {
      "text/plain": [
       "False"
      ]
     },
     "execution_count": 2,
     "metadata": {},
     "output_type": "execute_result"
    }
   ],
   "source": [
    "a and b"
   ]
  },
  {
   "cell_type": "code",
   "execution_count": 3,
   "id": "ea9f2d73",
   "metadata": {},
   "outputs": [
    {
     "data": {
      "text/plain": [
       "True"
      ]
     },
     "execution_count": 3,
     "metadata": {},
     "output_type": "execute_result"
    }
   ],
   "source": [
    "a or b"
   ]
  },
  {
   "cell_type": "code",
   "execution_count": 4,
   "id": "6418d8f7",
   "metadata": {},
   "outputs": [],
   "source": [
    "a=False\n",
    "b=False"
   ]
  },
  {
   "cell_type": "code",
   "execution_count": 5,
   "id": "e8ce18d4",
   "metadata": {},
   "outputs": [
    {
     "data": {
      "text/plain": [
       "False"
      ]
     },
     "execution_count": 5,
     "metadata": {},
     "output_type": "execute_result"
    }
   ],
   "source": [
    "a or b"
   ]
  },
  {
   "cell_type": "markdown",
   "id": "c22ae804",
   "metadata": {},
   "source": [
    "ASSIGNMENT OPERATOR"
   ]
  },
  {
   "cell_type": "code",
   "execution_count": 9,
   "id": "968ff07c",
   "metadata": {},
   "outputs": [
    {
     "data": {
      "text/plain": [
       "45"
      ]
     },
     "execution_count": 9,
     "metadata": {},
     "output_type": "execute_result"
    }
   ],
   "source": [
    "i=20\n",
    "i+=25\n",
    "i"
   ]
  },
  {
   "cell_type": "code",
   "execution_count": 10,
   "id": "c54c39aa",
   "metadata": {},
   "outputs": [
    {
     "data": {
      "text/plain": [
       "50"
      ]
     },
     "execution_count": 10,
     "metadata": {},
     "output_type": "execute_result"
    }
   ],
   "source": [
    "i"
   ]
  },
  {
   "cell_type": "code",
   "execution_count": 11,
   "id": "3a1c788e",
   "metadata": {},
   "outputs": [],
   "source": [
    "i**=2"
   ]
  },
  {
   "cell_type": "code",
   "execution_count": 12,
   "id": "e378953f",
   "metadata": {},
   "outputs": [
    {
     "data": {
      "text/plain": [
       "2500"
      ]
     },
     "execution_count": 12,
     "metadata": {},
     "output_type": "execute_result"
    }
   ],
   "source": [
    "i"
   ]
  },
  {
   "cell_type": "code",
   "execution_count": 22,
   "id": "714a7d0d",
   "metadata": {
    "scrolled": true
   },
   "outputs": [
    {
     "data": {
      "text/plain": [
       "0.0025"
      ]
     },
     "execution_count": 22,
     "metadata": {},
     "output_type": "execute_result"
    }
   ],
   "source": [
    "i/=40\n",
    "i"
   ]
  },
  {
   "cell_type": "code",
   "execution_count": 24,
   "id": "95e8dba0",
   "metadata": {},
   "outputs": [
    {
     "data": {
      "text/plain": [
       "8.881784197001257e-66"
      ]
     },
     "execution_count": 24,
     "metadata": {},
     "output_type": "execute_result"
    }
   ],
   "source": [
    "i**=25\n",
    "i"
   ]
  },
  {
   "cell_type": "code",
   "execution_count": 9,
   "id": "b16b5960",
   "metadata": {},
   "outputs": [],
   "source": [
    "a=256\n",
    "b=546\n",
    "c=56"
   ]
  },
  {
   "cell_type": "code",
   "execution_count": 12,
   "id": "f24b3bd3",
   "metadata": {},
   "outputs": [
    {
     "name": "stdout",
     "output_type": "stream",
     "text": [
      "1. -290\n",
      "2. 802\n",
      "3. 200\n"
     ]
    }
   ],
   "source": [
    "print('1.',a-b)\n",
    "print(\"2.\",a+b)\n",
    "print(\"3.\",a-c)"
   ]
  },
  {
   "cell_type": "code",
   "execution_count": null,
   "id": "16f68cc4",
   "metadata": {},
   "outputs": [],
   "source": []
  }
 ],
 "metadata": {
  "kernelspec": {
   "display_name": "Python 3",
   "language": "python",
   "name": "python3"
  },
  "language_info": {
   "codemirror_mode": {
    "name": "ipython",
    "version": 3
   },
   "file_extension": ".py",
   "mimetype": "text/x-python",
   "name": "python",
   "nbconvert_exporter": "python",
   "pygments_lexer": "ipython3",
   "version": "3.8.8"
  }
 },
 "nbformat": 4,
 "nbformat_minor": 5
}
